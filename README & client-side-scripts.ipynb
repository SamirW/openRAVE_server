{
 "cells": [
  {
   "cell_type": "markdown",
   "metadata": {},
   "source": [
    "# Mujin Document Engineer Coding Challenge\n",
    "## Samir Wadhwania, March 1, 2021\n",
    "\n",
    "I want to thank Natsumi, Yuto, and especially Ziyan for giving me the opportunity to interview with Mujin and the help along the way. This coding challenge proved to be more difficult than expected (infuriatingly so), but I have done my best to recover as much as possible and will document both my code and my process below. Thank you."
   ]
  },
  {
   "cell_type": "markdown",
   "metadata": {},
   "source": [
    "### Challenges in the beginning\n",
    "\n",
    "I installed Docker on my workstation and pulled the *debian:stretch* image from Docker Hub. From there, I cloned the openRAVE repository and checked out the *production* branch. As the image was a clean install of *debian*, I expected to install several packages along the way, but did not expect to get completely stuck during the compiling process.\n",
    "\n",
    "Small challenges here and there weren't too much of an issue: installing most from aptitude, some from source. However, apparently I erred (used the wrong versions, which seemed to be the common mistake at most turns) the most with rapidjson and fparser. Thank you to Ziyan for helping me identify the correct versions, which quickly resolved the issues.\n",
    "\n",
    "There still seemed to be an issue actually compiling due to the *boost* libraries. I dug as deep as I could to see if it could be linked to another library or something unexpected, but after a while decided it would be best to focus on the rest of the challenge."
   ]
  },
  {
   "cell_type": "markdown",
   "metadata": {},
   "source": [
    "### Small cheat(!)\n",
    "\n",
    "After talking to Ziyan, I decided to build out the HTTP server with the last 12 hours remaining in the challenge. He suggested using dummy JSON files to emulate the task. I realized partway through that a docker image with openRAVE installed almost certainly exists on DockerHub. I actually found what I believe to be [Ziyan's own container](https://hub.docker.com/r/ziyan/openrave) with openRAVE installed. I pulled that image and worked onward from there."
   ]
  },
  {
   "cell_type": "markdown",
   "metadata": {},
   "source": [
    "## README\n",
    "\n",
    "I would like to immediately credit the following people / sites where I learned and drew inspiration from:\n",
    "\n",
    "- [Geeks for Geeks: POST Requests Using Python](https://www.geeksforgeeks.org/get-post-requests-using-python/)\n",
    "- [Miel Donkers: Simple HTTPServer (albeit in Python3)](https://gist.github.com/mdonkers/63e115cc0c79b4f6b8b3a6b797e485c7)\n",
    "- [W3 Schools: Python Requests](https://www.w3schools.com/python/ref_requests_post.asp)\n",
    "- [And, of course, the openRAVE examples page / documentation](http://openrave.org/docs/latest_stable/openravepy/openravepy_int/)"
   ]
  },
  {
   "cell_type": "markdown",
   "metadata": {},
   "source": [
    "### Structure\n",
    "\n",
    "The term *collection* was ambiguous to me, so I interpreted it as the *set of robots present in a given simulated environment*. If this was not the intended meaning, I apologize. As a result, there is a server-side script called **rave_server.py** that initializes an openRAVE environment and subsequently spins up a server to handle HTTP requests. Adding robots to the collection means adding them to the simulation, and modifying, removing, and listing robots are all interpreted similarly.\n",
    "\n",
    "The server script accepts the following commands:"
   ]
  },
  {
   "cell_type": "markdown",
   "metadata": {},
   "source": [
    "### GET Request\n",
    "- **List Robots**: The default request (a GET request) returns a status code of 200 as well as the following information:\n",
    " - Success: 1 for success and 0 for failure\n",
    " - Error message: Empty for success, specific for failure\n",
    " - Robots: A list of robots in the collection by name"
   ]
  },
  {
   "cell_type": "markdown",
   "metadata": {},
   "source": [
    "### POST Request\n",
    "The only parameter common to all post requests is the *type* parameter. It is used to discriminate what the client would like to do, and looks for the appropriate accompanying information.\n",
    "- **add**: Adds a robot to the simulation. Requires:\n",
    " - xml: a JSONified *.dae* file containing robot information\n",
    "- **remove**: Removes a robot from the simulation. Requires:\n",
    " - robot: The robot name in the environment\n",
    "- **set**: Modifies a robot already in the simulation. Requires:\n",
    " - robot: The robot name in the environment\n",
    " - set: A *dict* of attributes to change and their corresponding values. The following are acceptable attributes (note: server expects perfectly formatted/sized information):\n",
    "   - DOFAccelerationLimits\n",
    "   - DOFLimits\n",
    "   - DOFTorqueLimits\n",
    "   - DOFValues\n",
    "   - DOFVelocityLimits\n",
    "   - DOFWeights\n",
    "   - Name\n",
    "- **download**: I wanted to implement the *add* functionality in reverse: take the robot XML data from the openRAVE environment, JSONify it, and return it to the client to convert back to and save as a *.dae* file. However, within the openRAVE environment docs, I could not (within the time) gather how to save the information of a single Robot/KinBody/Interface. Perhaps my interpretation of \"collection\" makes this difficult for me.\n",
    "\n",
    "The server makes the requested changes, and sends back the same information as above.\n",
    "\n",
    "### Errors\n",
    "If the *type* parameter is not one of the listed values, it returns an error code (418) and flags a failed request as well as a description of the error. \n",
    "\n",
    "All other errors are assumed to be syntax errors (misformated request) and returned with code 400."
   ]
  },
  {
   "cell_type": "markdown",
   "metadata": {},
   "source": [
    "## Client Side Scripts\n",
    "\n",
    "Below are scripts that can be run to test out the functionality of the HTTP server. After running the docker image with `-p 8888:8888`, I run the following in the container:\n",
    "\n",
    "`python rave_server.py -l \"0.0.0.0\" -p 8888 -e \"data/lab1.env.xml\"`\n",
    "\n",
    "Then, I use the scripts below:"
   ]
  },
  {
   "cell_type": "code",
   "execution_count": 3,
   "metadata": {},
   "outputs": [],
   "source": [
    "import requests\n",
    "import simplejson\n",
    "\n",
    "url = 'http://localhost:8888/'"
   ]
  },
  {
   "cell_type": "markdown",
   "metadata": {},
   "source": [
    "### List robots"
   ]
  },
  {
   "cell_type": "code",
   "execution_count": 10,
   "metadata": {},
   "outputs": [],
   "source": [
    "# Make a GET request\n",
    "r = requests.get(url)"
   ]
  },
  {
   "cell_type": "code",
   "execution_count": 11,
   "metadata": {},
   "outputs": [
    {
     "name": "stdout",
     "output_type": "stream",
     "text": [
      "Status Code: 200\n",
      "Response: {'Error Message': '', 'Success': 1, 'Robots': ['BarrettWAM']}\n"
     ]
    }
   ],
   "source": [
    "# Examine the response\n",
    "print(\"Status Code: {}\".format(r.status_code))\n",
    "print(\"Response: {}\".format(r.json()))"
   ]
  },
  {
   "cell_type": "markdown",
   "metadata": {},
   "source": [
    "We can see that the only Robot in the environment is *BarrettWAM*"
   ]
  },
  {
   "cell_type": "markdown",
   "metadata": {},
   "source": [
    "### Add a robot \n",
    "\n",
    "Let's add the *kuka-youbot* robot."
   ]
  },
  {
   "cell_type": "code",
   "execution_count": 41,
   "metadata": {},
   "outputs": [],
   "source": [
    "# JSONify the .dae file\n",
    "with open('robots/kuka-youbot.dae', 'r') as file:\n",
    "    data = {\n",
    "        'type': 'add', \n",
    "        'xml': simplejson.dumps(file.read())\n",
    "    }\n",
    "    \n",
    "r = requests.post(url, json=data)"
   ]
  },
  {
   "cell_type": "code",
   "execution_count": 42,
   "metadata": {},
   "outputs": [
    {
     "name": "stdout",
     "output_type": "stream",
     "text": [
      "Status Code: 200\n",
      "Response: {'Error Message': '', 'Success': 1, 'Robots': ['BarrettWAM', 'youbot']}\n"
     ]
    }
   ],
   "source": [
    "# Examine the response\n",
    "print(\"Status Code: {}\".format(r.status_code))\n",
    "print(\"Response: {}\".format(r.json()))"
   ]
  },
  {
   "cell_type": "markdown",
   "metadata": {},
   "source": [
    "### Modify a robot\n",
    "\n",
    "We can see that the *kuka-youbot* has been added. Let's change that name to something more fun, and change some limits."
   ]
  },
  {
   "cell_type": "code",
   "execution_count": 53,
   "metadata": {},
   "outputs": [],
   "source": [
    "data = {\n",
    "    'type': 'set', \n",
    "    'robot': 'youbot', \n",
    "    'set': {'Name': 'Turing', \n",
    "            'DOFAccelerationLimits': [1, 1, 1, 1, 1, 1, 1]\n",
    "           }\n",
    "    }\n",
    "\n",
    "r = requests.post(url, json=data)"
   ]
  },
  {
   "cell_type": "code",
   "execution_count": 54,
   "metadata": {},
   "outputs": [
    {
     "name": "stdout",
     "output_type": "stream",
     "text": [
      "Status Code: 200\n",
      "Response: {'Error Message': '', 'Success': 1, 'Robots': ['BarrettWAM', 'Turing']}\n"
     ]
    }
   ],
   "source": [
    "# Examine the response\n",
    "print(\"Status Code: {}\".format(r.status_code))\n",
    "print(\"Response: {}\".format(r.json()))"
   ]
  },
  {
   "cell_type": "markdown",
   "metadata": {},
   "source": [
    "### Remove a robot\n",
    "\n",
    "The robot has been changed, and internally, the DOFAccelerationLimits have been set as well. Let's get rid of our original *BarrettWAM* robot."
   ]
  },
  {
   "cell_type": "code",
   "execution_count": 55,
   "metadata": {},
   "outputs": [],
   "source": [
    "data = {\n",
    "    'type': 'remove', \n",
    "    'robot': 'BarrettWAM', \n",
    "    }\n",
    "\n",
    "r = requests.post(url, json=data)"
   ]
  },
  {
   "cell_type": "code",
   "execution_count": 56,
   "metadata": {},
   "outputs": [
    {
     "name": "stdout",
     "output_type": "stream",
     "text": [
      "Status Code: 200\n",
      "Response: {'Error Message': '', 'Success': 1, 'Robots': ['Turing']}\n"
     ]
    }
   ],
   "source": [
    "# Examine the response\n",
    "print(\"Status Code: {}\".format(r.status_code))\n",
    "print(\"Response: {}\".format(r.json()))"
   ]
  },
  {
   "cell_type": "markdown",
   "metadata": {},
   "source": [
    "Our original is gone, and we are left with just our own!"
   ]
  },
  {
   "cell_type": "markdown",
   "metadata": {},
   "source": [
    "## Frameworks / Tool Choices"
   ]
  },
  {
   "cell_type": "markdown",
   "metadata": {},
   "source": [
    "I opted for a SimpleHTTP server because it would have been the most straightforward. However, I wouldn't want to use this for production because there are very few security checks involved, but it sufficed for this coding challenge.\n",
    "\n",
    "As you may have noticed, I enjoy using iPython / Jupyter notebooks. I ran a jupyter server in the Docker container so I could work in my host computer's browser, and I also ran a jupyter server on my host computer so I could tinker with sending requests and received responses.\n",
    "\n",
    "Python is the most straightforward for me, and I did my best to adhere to PEP8 standards."
   ]
  },
  {
   "cell_type": "markdown",
   "metadata": {},
   "source": [
    "## Improvements\n",
    "\n",
    "This is nowhere near how I would want something professional to look. Just the notes that I made during the process:\n",
    "\n",
    "- Implementing a wrapper for handling different types of information (string, nparray, etc).\n",
    "- Implementing a POST request to get the current attributes of a specific robot (started to do this, realized I needed the wrappers, ran out of time)\n",
    "- Create a python executable for the client side so you don't have to run scripts out of a Jupyter notebook\n",
    "- One step further, build a GUI\n",
    "- I feel like my route of a global environment variable is really ugly. Definitely a more elegant way of implementing that.\n",
    "\n",
    "And I cannot get this far without talking about my compilation issues. It shouldn't have been as difficult as it was, and most of was probably/definitely my fault. That being said -- there's no documentation about installing openRAVE on the repository past 2016! I manually searched for several packages that were required, and had to dig to find the specific versions of some. I hope that this deliverable was still able to accomplish the original goal."
   ]
  }
 ],
 "metadata": {
  "kernelspec": {
   "display_name": "Python 3",
   "language": "python",
   "name": "python3"
  },
  "language_info": {
   "codemirror_mode": {
    "name": "ipython",
    "version": 3
   },
   "file_extension": ".py",
   "mimetype": "text/x-python",
   "name": "python",
   "nbconvert_exporter": "python",
   "pygments_lexer": "ipython3",
   "version": "3.8.3"
  }
 },
 "nbformat": 4,
 "nbformat_minor": 4
}
