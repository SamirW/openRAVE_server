{
 "cells": [
  {
   "cell_type": "code",
   "execution_count": 2,
   "metadata": {},
   "outputs": [],
   "source": [
    "# Basic environment loading example\n",
    "from openravepy import *\n",
    "env = Environment() # create openrave environment\n",
    "env.SetViewer('qtcoin') # attach viewer (optional)\n",
    "env.Load('data/lab1.env.xml') # load a simple scene\n",
    "robot = env.GetRobots()[0] # get the first robot\n",
    "\n",
    "with env: # lock the environment since robot will be used\n",
    "    raveLogInfo(\"Robot \"+robot.GetName()+\" has \"+repr(robot.GetDOF())+\" joints with values:\\n\"+repr(robot.GetDOFValues()))\n",
    "    robot.SetDOFValues([0.5],[0]) # set joint 0 to value 0.5\n",
    "    T = robot.GetLinks()[1].GetTransform() # get the transform of link 1\n",
    "    raveLogInfo(\"The transformation of link 1 is:\\n\"+repr(T))"
   ]
  },
  {
   "cell_type": "code",
   "execution_count": 3,
   "metadata": {},
   "outputs": [
    {
     "name": "stdout",
     "output_type": "stream",
     "text": [
      "[RaveGetEnvironment(1).GetRobot('BarrettWAM')]\n"
     ]
    }
   ],
   "source": [
    "# Look at robots\n",
    "all_robots = env.GetRobots()\n",
    "print(all_robots)"
   ]
  },
  {
   "cell_type": "code",
   "execution_count": 4,
   "metadata": {},
   "outputs": [
    {
     "name": "stdout",
     "output_type": "stream",
     "text": [
      "[RaveGetEnvironment(1).GetRobot('BarrettWAM'), RaveGetEnvironment(1).GetRobot('youbot')]\n"
     ]
    }
   ],
   "source": [
    "# Load a dae XML file\n",
    "new_robot = env.ReadRobotXMLFile('kuka-youbot.dae')\n",
    "env.AddRobot(new_robot)\n",
    "\n",
    "print(env.GetRobots())"
   ]
  },
  {
   "cell_type": "code",
   "execution_count": 5,
   "metadata": {
    "scrolled": true
   },
   "outputs": [],
   "source": [
    "# Get individual robot\n",
    "youbot = env.GetRobot('youbot')"
   ]
  },
  {
   "cell_type": "code",
   "execution_count": 6,
   "metadata": {},
   "outputs": [
    {
     "data": {
      "text/plain": [
       "[RaveGetEnvironment(1).GetRobot('BarrettWAM')]"
      ]
     },
     "execution_count": 6,
     "metadata": {},
     "output_type": "execute_result"
    }
   ],
   "source": [
    "# Remove robot\n",
    "env.Remove(youbot)\n",
    "env.GetRobots()"
   ]
  },
  {
   "cell_type": "code",
   "execution_count": 7,
   "metadata": {},
   "outputs": [
    {
     "name": "stdout",
     "output_type": "stream",
     "text": [
      "[RaveGetEnvironment(1).GetRobot('new_name')]\n"
     ]
    }
   ],
   "source": [
    "# Rename robot\n",
    "barrett = env.GetRobot('BarrettWAM')\n",
    "barrett.SetName('new_name')\n",
    "\n",
    "print(env.GetRobots())"
   ]
  },
  {
   "cell_type": "code",
   "execution_count": 8,
   "metadata": {},
   "outputs": [
    {
     "data": {
      "text/plain": [
       "array([ 50.,  50.,  50.,  50.,  50.,  50.,  50.,  50.,  50.,  50.,  50.])"
      ]
     },
     "execution_count": 8,
     "metadata": {},
     "output_type": "execute_result"
    }
   ],
   "source": [
    "robot = env.GetRobot('new_name')\n",
    "getattr(robot, 'GetDOFAccelerationLimits')()"
   ]
  },
  {
   "cell_type": "code",
   "execution_count": 10,
   "metadata": {},
   "outputs": [
    {
     "data": {
      "text/plain": [
       "array([ 1.,  1.,  1.,  2.,  2.,  2.,  3.,  3.,  4.,  4.,  5.])"
      ]
     },
     "execution_count": 10,
     "metadata": {},
     "output_type": "execute_result"
    }
   ],
   "source": [
    "getattr(robot, 'SetDOFAccelerationLimits')([1, 1, 1, 2, 2, 2, 3, 3, 4, 4, 5])\n",
    "getattr(robot, 'GetDOFAccelerationLimits')()"
   ]
  },
  {
   "cell_type": "code",
   "execution_count": null,
   "metadata": {},
   "outputs": [],
   "source": []
  }
 ],
 "metadata": {
  "kernelspec": {
   "display_name": "Python 2",
   "language": "python",
   "name": "python2"
  },
  "language_info": {
   "codemirror_mode": {
    "name": "ipython",
    "version": 2
   },
   "file_extension": ".py",
   "mimetype": "text/x-python",
   "name": "python",
   "nbconvert_exporter": "python",
   "pygments_lexer": "ipython2",
   "version": "2.7.3"
  }
 },
 "nbformat": 4,
 "nbformat_minor": 2
}
